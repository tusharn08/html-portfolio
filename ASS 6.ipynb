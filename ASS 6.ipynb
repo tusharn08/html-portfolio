{
 "cells": [
  {
   "cell_type": "markdown",
   "id": "3231af32",
   "metadata": {},
   "source": [
    "Reinforcement Learning: Implement Reinforcement Learning\n",
    "using an example of a maze environment that the agent needs to\n",
    "explore."
   ]
  },
  {
   "cell_type": "code",
   "execution_count": null,
   "id": "d0ed596e",
   "metadata": {},
   "outputs": [],
   "source": [
    "import numpy as np"
   ]
  },
  {
   "cell_type": "code",
   "execution_count": 2,
   "id": "f2ad91ce",
   "metadata": {},
   "outputs": [],
   "source": [
    "maze = np.array([\n",
    "    [0,0,0,0,0],\n",
    "    [0,1,0,1,0],\n",
    "    [0,0,0,0,0],\n",
    "    [0,1,1,1,0],\n",
    "    [0,0,0,0,2]\n",
    "])"
   ]
  },
  {
   "cell_type": "code",
   "execution_count": 5,
   "id": "79218446",
   "metadata": {},
   "outputs": [],
   "source": [
    "learning_rate = 0.1\n",
    "discount_factor = 0.9\n",
    "epsilon = 0.1\n",
    "num_episodes = 1000\n",
    "\n",
    "num_states, num_actions = maze.size ,4\n",
    "Q = np.zeros((num_states, num_actions))"
   ]
  },
  {
   "cell_type": "code",
   "execution_count": null,
   "id": "874e2e66",
   "metadata": {},
   "outputs": [],
   "source": [
    "for _ in range(num_episodes) :\n",
    "    state = 0   #starting position\n",
    "    \n",
    "    while True :\n",
    "        action = np.random.choice"
   ]
  }
 ],
 "metadata": {
  "kernelspec": {
   "display_name": "Python 3 (ipykernel)",
   "language": "python",
   "name": "python3"
  },
  "language_info": {
   "codemirror_mode": {
    "name": "ipython",
    "version": 3
   },
   "file_extension": ".py",
   "mimetype": "text/x-python",
   "name": "python",
   "nbconvert_exporter": "python",
   "pygments_lexer": "ipython3",
   "version": "3.9.12"
  }
 },
 "nbformat": 4,
 "nbformat_minor": 5
}
